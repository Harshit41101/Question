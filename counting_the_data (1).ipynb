{
 "cells": [
  {
   "cell_type": "code",
   "execution_count": null,
   "id": "f6f72eaa-b407-49d0-9065-900dc19809d5",
   "metadata": {},
   "outputs": [],
   "source": [
    "s = set()\n",
    "for j in range(10):\n",
    "    k = int(input('Specify the type of the input you are giving : 1 for num, 2 for bool, 3 for string'))\n",
    "    if(k==1):\n",
    "        n = int(input('Enter the number : '))\n",
    "        s.add(n)\n",
    "    elif(k==2):\n",
    "        n = input('Enter True or False : ')\n",
    "        s.add(n)\n",
    "    else:\n",
    "        n = input('Enter the string : ')\n",
    "        s.add(n)\n",
    "countn = 0 \n",
    "counts = 0\n",
    "countb = 0\n",
    "for i in s:\n",
    "    if type(i)==int or type(i)==float:\n",
    "        countn+=1\n",
    "    elif type(i)==str and (i == 'True' or i=='False'):\n",
    "        countb+=1\n",
    "    else:\n",
    "        counts+=1"
   ]
  }
 ],
 "metadata": {
  "kernelspec": {
   "display_name": "Python 3 (ipykernel)",
   "language": "python",
   "name": "python3"
  },
  "language_info": {
   "codemirror_mode": {
    "name": "ipython",
    "version": 3
   },
   "file_extension": ".py",
   "mimetype": "text/x-python",
   "name": "python",
   "nbconvert_exporter": "python",
   "pygments_lexer": "ipython3",
   "version": "3.10.8"
  }
 },
 "nbformat": 4,
 "nbformat_minor": 5
}
